{
  "nbformat": 4,
  "nbformat_minor": 0,
  "metadata": {
    "colab": {
      "provenance": []
    },
    "kernelspec": {
      "name": "python3",
      "display_name": "Python 3"
    },
    "language_info": {
      "name": "python"
    }
  },
  "cells": [
    {
      "cell_type": "markdown",
      "source": [
        "import cv2\n",
        "from google.colab import drive\n",
        "from google.colab.patches import cv2_imshow\n",
        "img_path = ''\n",
        "img = cv2.imread(img_path)\n",
        "print(f'Original Image')\n",
        "print(f\"Image size : {img.size}\")\n",
        "cv2_imshow(img)\n",
        "\n",
        "print(f'Resized Image')\n",
        "print(f\"Image size : {resize_img.size}\")\n",
        "resize_img = cv2.resize(img, (500,500))\n",
        "cv2_imshow(resize_img)\n",
        "\n",
        "print(f'Squished Image')\n",
        "print(f\"Image size : {squish_img.size}\")\n",
        "squish_img = cv2.resize(img, (50,50))\n",
        "cv2_imshow(squish_img)"
      ],
      "metadata": {
        "id": "pfIWzK-Vh-a_"
      }
    },
    {
      "cell_type": "code",
      "source": [
        "import cv2\n",
        "from google.colab import drive\n",
        "from google.colab.patches import cv2_imshow\n",
        "img_path2 = '/content/at3_1m4_06.tif'\n",
        "img2 = cv2.imread(img_path2)\n",
        "print(f'Original Image')\n",
        "print(f\"Image size : {img2.size}\")\n",
        "cv2_imshow(img2)\n",
        "resize_img2 = cv2.resize(img2, (100,150))\n",
        "print(f'Resized Image')\n",
        "print(f\"Image size : {resize_img2.size}\")\n",
        "cv2_imshow(resize_img2)"
      ],
      "metadata": {
        "id": "G4RX4RO3lBoi"
      },
      "execution_count": null,
      "outputs": []
    },
    {
      "cell_type": "code",
      "source": [
        "import numpy as np\n",
        "a = np.array([[1,0,0,1],\n",
        "              [0,0,0,0],\n",
        "              [0,0,0,0],\n",
        "              [1,0,0,1]], dtype=np.uint8)\n",
        "image = a * 255\n",
        "print(f'Original Image')\n",
        "print(f\"Image size : {resized_image.size}\")\n",
        "resized_image = cv2.resize(image, (100,100), interpolation=cv2.INTER_NEAREST)\n",
        "cv2_imshow(resized_image)\n",
        "\n",
        "print(f'Resized Image')\n",
        "print(f\"Image size : {resized_image2.size}\")\n",
        "resized_image2 = cv2.resize(image, (400,400), interpolation=cv2.INTER_NEAREST)\n",
        "cv2_imshow(resized_image2)"
      ],
      "metadata": {
        "id": "pwqv2IE5lvby"
      },
      "execution_count": null,
      "outputs": []
    }
  ]
}