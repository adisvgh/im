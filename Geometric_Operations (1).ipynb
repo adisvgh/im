{
  "cells": [
    {
      "cell_type": "code",
      "execution_count": 1,
      "metadata": {
        "id": "v6h8HzXmxvK7",
        "outputId": "a8116ef8-4c8d-4f79-ba56-d5b84a41b46d",
        "colab": {
          "base_uri": "https://localhost:8080/",
          "height": 434
        }
      },
      "outputs": [
        {
          "output_type": "stream",
          "name": "stdout",
          "text": [
            "Line on image\n"
          ]
        },
        {
          "output_type": "display_data",
          "data": {
            "text/plain": [
              "<PIL.Image.Image image mode=L size=400x400>"
            ],
            "image/png": "[encoded data removed]",
            "image/jpeg": "[encoded data removed]"
          },
          "metadata": {}
        }
      ],
      "source": [
        "import cv2\n",
        "from google.colab.patches import cv2_imshow\n",
        "import numpy as np\n",
        "a = np.array([[0,1,0,1,0],\n",
        "              [1,0,1,0,1],\n",
        "              [0,1,0,1,0],\n",
        "              [1,0,1,0,1],\n",
        "              [0,1,0,1,0]], dtype=np.uint8)\n",
        "image = a * 255\n",
        "resized_image = cv2.resize(image, (400,400), interpolation=cv2.INTER_NEAREST)\n",
        "print(\"Line on image\")\n",
        "line = cv2.line(resized_image, (0,0), (400,400), (255,0,0), 5)\n",
        "cv2_imshow(line)"
      ]
    },
    {
      "cell_type": "code",
      "source": [
        "import cv2\n",
        "from google.colab.patches import cv2_imshow\n",
        "import numpy as np\n",
        "a1 = np.array([[0,1,0,1,0],\n",
        "              [1,0,1,0,1],\n",
        "              [0,1,0,1,0],\n",
        "              [1,0,1,0,1],\n",
        "              [0,1,0,1,0]], dtype=np.uint8)\n",
        "image1 = a1 * 255\n",
        "resized_image1 = cv2.resize(image1, (400,400), interpolation=cv2.INTER_NEAREST)\n",
        "print(\"Arrowed line on image\")\n",
        "arrowline = cv2.arrowedLine(resized_image1, (200,400), (200,0), (255,0,0), 5)\n",
        "cv2_imshow(arrowline)"
      ],
      "metadata": {
        "id": "6ewdB8WEGDV3",
        "outputId": "55415964-ca89-428b-a6a7-31a62c0408de",
        "colab": {
          "base_uri": "https://localhost:8080/",
          "height": 434
        }
      },
      "execution_count": 2,
      "outputs": [
        {
          "output_type": "stream",
          "name": "stdout",
          "text": [
            "Arrowed line on image\n"
          ]
        },
        {
          "output_type": "display_data",
          "data": {
            "text/plain": [
              "<PIL.Image.Image image mode=L size=400x400>"
            ],
            "image/png": "[encoded data removed]",
            "image/jpeg": "[encoded data removed]"
          },
          "metadata": {}
        }
      ]
    },
    {
      "cell_type": "code",
      "source": [
        "import cv2\n",
        "from google.colab.patches import cv2_imshow\n",
        "import numpy as np\n",
        "a2 = np.array([[0,1,0,1,0],\n",
        "              [1,0,1,0,1],\n",
        "              [0,1,0,1,0],\n",
        "              [1,0,1,0,1],\n",
        "              [0,1,0,1,0]], dtype=np.uint8)\n",
        "image2 = a2 * 255\n",
        "resized_image2 = cv2.resize(image2, (400,400), interpolation=cv2.INTER_NEAREST)\n",
        "print(\"Rectangle on image\")\n",
        "rectangle = cv2.rectangle(resized_image2, (100,130), (300,280), (255,0,0), 5)\n",
        "cv2_imshow(rectangle)"
      ],
      "metadata": {
        "id": "YZt5Iv-4IPbx",
        "outputId": "b4227a14-8cc1-4239-871c-fd4660130661",
        "colab": {
          "base_uri": "https://localhost:8080/",
          "height": 434
        }
      },
      "execution_count": 4,
      "outputs": [
        {
          "output_type": "stream",
          "name": "stdout",
          "text": [
            "Rectangle on image\n"
          ]
        },
        {
          "output_type": "display_data",
          "data": {
            "text/plain": [
              "<PIL.Image.Image image mode=L size=400x400>"
            ],
            "image/png": "[encoded data removed]",
            "image/jpeg": "[encoded data removed]"
          },
          "metadata": {}
        }
      ]
    },
    {
      "cell_type": "code",
      "source": [
        "import cv2\n",
        "from google.colab.patches import cv2_imshow\n",
        "import numpy as np\n",
        "a3 = np.array([[0,1,0,1,0],\n",
        "              [1,0,1,0,1],\n",
        "              [0,1,0,1,0],\n",
        "              [1,0,1,0,1],\n",
        "              [0,1,0,1,0]], dtype=np.uint8)\n",
        "image3 = a3 * 255\n",
        "resized_image3 = cv2.resize(image3, (400,400), interpolation=cv2.INTER_NEAREST)\n",
        "print(\"Circle on image\")\n",
        "circle = cv2.circle(resized_image3, (200,200), 130, (255,0,0), 5)\n",
        "cv2_imshow(circle)"
      ],
      "metadata": {
        "id": "XlWDRvEOJmRz"
      },
      "execution_count": null,
      "outputs": []
    },
    {
      "cell_type": "code",
      "source": [
        "import cv2\n",
        "from google.colab.patches import cv2_imshow\n",
        "import numpy as np\n",
        "a4 = np.array([[0,1,0,1,0],\n",
        "              [1,0,1,0,1],\n",
        "              [0,1,0,1,0],\n",
        "              [1,0,1,0,1],\n",
        "              [0,1,0,1,0]], dtype=np.uint8)\n",
        "\n",
        "# Convert the matrix to an image by scaling each pixel to 255 (white) and 0 (black)\n",
        "image4 = a4 * 255\n",
        "resized_image4 = cv2.resize(image4, (400, 400), interpolation = cv2.INTER_NEAREST)\n",
        "print(\"Text on image\")\n",
        "text_on_img = cv2.putText(resized_image4, 'Text', (175, 200), cv2.FONT_HERSHEY_SIMPLEX, 0.70, (255, 0, 0))\n",
        "cv2_imshow(text_on_img)"
      ],
      "metadata": {
        "id": "mPJBII23J487"
      },
      "execution_count": null,
      "outputs": []
    }
  ],
  "metadata": {
    "colab": {
      "provenance": []
    },
    "kernelspec": {
      "display_name": "Python 3",
      "name": "python3"
    },
    "language_info": {
      "name": "python"
    }
  },
  "nbformat": 4,
  "nbformat_minor": 0
}